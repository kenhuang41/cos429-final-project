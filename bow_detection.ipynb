{
 "cells": [
  {
   "cell_type": "code",
   "execution_count": 1,
   "metadata": {},
   "outputs": [],
   "source": [
    "import cv2\n",
    "import numpy as np\n",
    "import matplotlib.pyplot as plt\n",
    "import time"
   ]
  },
  {
   "cell_type": "code",
   "execution_count": 99,
   "metadata": {},
   "outputs": [],
   "source": [
    "img = cv2.imread('test2.jpg')\n",
    "gray = cv2.cvtColor(img, cv2.COLOR_BGR2GRAY)"
   ]
  },
  {
   "cell_type": "code",
   "execution_count": 100,
   "metadata": {},
   "outputs": [
    {
     "data": {
      "text/plain": [
       "-1"
      ]
     },
     "execution_count": 100,
     "metadata": {},
     "output_type": "execute_result"
    }
   ],
   "source": [
    "cv2.imshow('img', gray)\n",
    "cv2.waitKey(0)"
   ]
  },
  {
   "cell_type": "code",
   "execution_count": 82,
   "metadata": {},
   "outputs": [
    {
     "data": {
      "text/plain": [
       "array([[47, 50, 66, ..., 49, 52, 47],\n",
       "       [47, 52, 70, ..., 49, 53, 48],\n",
       "       [51, 54, 71, ..., 49, 51, 47],\n",
       "       ...,\n",
       "       [16, 16, 14, ..., 22, 16, 14],\n",
       "       [17, 16, 14, ..., 18, 15, 15],\n",
       "       [17, 17, 15, ..., 14, 14, 17]], dtype=uint8)"
      ]
     },
     "execution_count": 82,
     "metadata": {},
     "output_type": "execute_result"
    }
   ],
   "source": [
    "gray"
   ]
  },
  {
   "cell_type": "code",
   "execution_count": 83,
   "metadata": {},
   "outputs": [],
   "source": [
    "Fy = convolve(gray)"
   ]
  },
  {
   "cell_type": "code",
   "execution_count": 84,
   "metadata": {},
   "outputs": [
    {
     "data": {
      "text/plain": [
       "-1"
      ]
     },
     "execution_count": 84,
     "metadata": {},
     "output_type": "execute_result"
    }
   ],
   "source": [
    "cv2.imshow('img', Fy)\n",
    "cv2.waitKey(0)"
   ]
  },
  {
   "cell_type": "code",
   "execution_count": 96,
   "metadata": {},
   "outputs": [
    {
     "name": "stdout",
     "output_type": "stream",
     "text": [
      "[[-329.            3.07177948  211.        ]]\n"
     ]
    },
    {
     "data": {
      "text/plain": [
       "-1"
      ]
     },
     "execution_count": 96,
     "metadata": {},
     "output_type": "execute_result"
    }
   ],
   "source": [
    "# lines = cv2.HoughLines(Fy2, 1, np.pi/180, 624)\n",
    "# lines = detectLines(Fy, minVotes = 80, rRes = 10, tRes = np.pi / 20, best = 3)\n",
    "lines = detectLines(Fy, minVotes = 80, rRes = 1, tRes = np.pi / 180, best = 1)\n",
    "temp = img.copy()\n",
    "print(lines)\n",
    "\n",
    "for l in lines:\n",
    "    rho, theta, votes = l\n",
    "    b = np.cos(theta)\n",
    "    a = np.sin(theta)\n",
    "    x0 = a*rho\n",
    "    y0 = b*rho\n",
    "    x1 = int(x0 + 1000*(-b))\n",
    "    y1 = int(y0 + 1000*(a))\n",
    "    x2 = int(x0 - 1000*(-b))\n",
    "    y2 = int(y0 - 1000*(a))\n",
    "\n",
    "    cv2.line(temp,(x1,y1),(x2,y2),(0, 0, 255),2)\n",
    "\n",
    "# cv2.imwrite('test3.jpg',Fy)\n",
    "cv2.imshow('img', temp)\n",
    "cv2.waitKey(0)"
   ]
  },
  {
   "cell_type": "code",
   "execution_count": 86,
   "metadata": {},
   "outputs": [
    {
     "name": "stdout",
     "output_type": "stream",
     "text": [
      "time per image: 1.277159440000105 seconds\n"
     ]
    }
   ],
   "source": [
    "start = time.perf_counter()\n",
    "for i in range(10):\n",
    "    lines = detectLines(Fy, minVotes = 100)\n",
    "print(f'time per image: {(time.perf_counter() - start) / 10} seconds')"
   ]
  },
  {
   "cell_type": "markdown",
   "metadata": {},
   "source": [
    "## FUNCTIONS TO USE\n",
    "\n",
    "combined into general pipeline to go from image file name to draw lines on it"
   ]
  },
  {
   "cell_type": "code",
   "execution_count": 87,
   "metadata": {},
   "outputs": [],
   "source": [
    "def convolve(img, height = 9, sigma = 1):\n",
    "    Gy = np.array([1 / (sigma * np.sqrt(2 * np.pi)) * np.e**(-y**2 / (2 * sigma**2)) for y in range(-height//2+1, height//2+1)])\n",
    "    Gy = np.expand_dims(Gy, axis = 1) / np.sum(Gy)\n",
    "    Gy = Gy - np.ones(height) / height\n",
    "    return cv2.filter2D(img, -1, Gy)"
   ]
  },
  {
   "cell_type": "code",
   "execution_count": 43,
   "metadata": {},
   "outputs": [],
   "source": [
    "def detectLines(img, minVotes = 10, rRes = 1, tRes = np.pi / 180, minBrightness = 240, best = None):\n",
    "    height, width = img.shape\n",
    "    ans = dict()\n",
    "    for r in range(height):\n",
    "        for c in range(width):\n",
    "            if img[r,c] < minBrightness:\n",
    "                continue\n",
    "            for i in range(int(np.pi / tRes)):\n",
    "                rho = (r * np.cos(i * tRes) + c * np.sin(i * tRes)) // rRes * rRes\n",
    "                if rho in ans.keys():\n",
    "                    ans[rho][i] = ans[rho].get(i, 0) + 1\n",
    "                else:\n",
    "                    ans[rho] = dict()\n",
    "                    ans[rho][i] = 1\n",
    "                    \n",
    "    # create output array\n",
    "    out = []\n",
    "    for rho, d in ans.items():\n",
    "        for theta, votes in d.items():\n",
    "            if votes >= minVotes:\n",
    "                out.append([rho, theta * tRes, ans[rho][theta]])\n",
    "    if len(out) == 0:\n",
    "        return detectLines(img, minVotes//3, rRes, tRes, minBrightness, best = best)\n",
    "    out = np.array(out)\n",
    "    \n",
    "    if best == None:\n",
    "        return out[(-out)[:, 2].argsort()]\n",
    "    return out[(-out)[:, 2].argsort()][:best]\n",
    "    \n",
    "# print(detectLines(Fy, 80))"
   ]
  },
  {
   "cell_type": "code",
   "execution_count": 73,
   "metadata": {},
   "outputs": [],
   "source": [
    "def everything(file = 'test.jpg'):\n",
    "    img = cv2.imread(file)\n",
    "    gray = cv2.cvtColor(img, cv2.COLOR_BGR2GRAY)\n",
    "    Fy = convolve(gray)\n",
    "    lines = detectLines(Fy, minVotes = 80, rRes = 1, tRes = np.pi / 180, best = 1)\n",
    "    temp = img.copy()\n",
    "\n",
    "    for l in lines:\n",
    "        rho, theta, votes = l\n",
    "        b = np.cos(theta)\n",
    "        a = np.sin(theta)\n",
    "        x0 = a*rho\n",
    "        y0 = b*rho\n",
    "        x1 = int(x0 + 1000*(-b))\n",
    "        y1 = int(y0 + 1000*(a))\n",
    "        x2 = int(x0 - 1000*(-b))\n",
    "        y2 = int(y0 - 1000*(a))\n",
    "\n",
    "        cv2.line(temp,(x1,y1), (x2,y2), (0,0,255), 2)\n",
    "\n",
    "    cv2.imshow('img', temp)\n",
    "    cv2.waitKey(0)\n",
    "\n",
    "everything('./sloth/cellos_crop/image19.jpg')\n"
   ]
  },
  {
   "cell_type": "code",
   "execution_count": 75,
   "metadata": {},
   "outputs": [
    {
     "data": {
      "text/plain": [
       "-1"
      ]
     },
     "execution_count": 75,
     "metadata": {},
     "output_type": "execute_result"
    }
   ],
   "source": [
    "img = cv2.imread('./sloth/cellos_crop/image8.jpg')\n",
    "cv2.imshow('img', img)\n",
    "cv2.waitKey(0)"
   ]
  }
 ],
 "metadata": {
  "kernelspec": {
   "display_name": "Python 3 (ipykernel)",
   "language": "python",
   "name": "python3"
  },
  "language_info": {
   "codemirror_mode": {
    "name": "ipython",
    "version": 3
   },
   "file_extension": ".py",
   "mimetype": "text/x-python",
   "name": "python",
   "nbconvert_exporter": "python",
   "pygments_lexer": "ipython3",
   "version": "3.9.5"
  }
 },
 "nbformat": 4,
 "nbformat_minor": 4
}
