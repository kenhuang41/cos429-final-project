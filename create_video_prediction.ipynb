{
 "cells": [
  {
   "cell_type": "code",
   "execution_count": 31,
   "metadata": {},
   "outputs": [],
   "source": [
    "import cv2\n",
    "import numpy as np\n",
    "import time\n",
    "import pickle"
   ]
  },
  {
   "cell_type": "code",
   "execution_count": 32,
   "metadata": {},
   "outputs": [
    {
     "name": "stdout",
     "output_type": "stream",
     "text": [
      "The autoreload extension is already loaded. To reload it, use:\n",
      "  %reload_ext autoreload\n"
     ]
    }
   ],
   "source": [
    "%load_ext autoreload\n",
    "%autoreload 2\n",
    "\n",
    "from part_detection import detect_bow, detect_fingerboard, detect_both"
   ]
  },
  {
   "cell_type": "code",
   "execution_count": 33,
   "metadata": {},
   "outputs": [],
   "source": [
    "# load knn model\n",
    "loaded_model = pickle.load(open('string_predict_knn.sav', 'rb'))"
   ]
  },
  {
   "cell_type": "code",
   "execution_count": 37,
   "metadata": {},
   "outputs": [
    {
     "name": "stdout",
     "output_type": "stream",
     "text": [
      "377.04753100000016\n"
     ]
    }
   ],
   "source": [
    "video = cv2.VideoCapture('cello.mp4')\n",
    "start = time.perf_counter()\n",
    "# for i in range(30):\n",
    "#     check, frame = video.read()\n",
    "for i in range(600):\n",
    "    check, frame = video.read()\n",
    "    if check == False:\n",
    "        print('Video Not Found. Please Enter a Valid Path (Full path of Video Should be Provided).')\n",
    "\n",
    "    temp = cv2.resize(frame, (frame.shape[1] // 2, frame.shape[0] // 2))\n",
    "    detected, rPrev1, rPrev2, tPrev1, tPrev2 = detect_both(temp, optimized = True)\n",
    "#     print(detected)\n",
    "    if tPrev1 is None or tPrev2 is None:\n",
    "        pred = '?'\n",
    "    else:\n",
    "        pred = loaded_model.predict([[tPrev1, (tPrev2 + np.pi/2) % np.pi]])[0]\n",
    "    labeled = cv2.putText(detected, f'String {pred}', (0, 30), cv2.FONT_HERSHEY_SIMPLEX, 1, (255, 255, 255), 2)\n",
    "#     cv2.imshow('bow', labeled)\n",
    "#     cv2.waitKey(0)\n",
    "print(time.perf_counter() - start)"
   ]
  },
  {
   "cell_type": "code",
   "execution_count": 28,
   "metadata": {},
   "outputs": [
    {
     "name": "stdout",
     "output_type": "stream",
     "text": [
      "Detecting string...\n",
      "20th frame being detected\n",
      "40th frame being detected\n",
      "60th frame being detected\n",
      "80th frame being detected\n",
      "100th frame being detected\n",
      "120th frame being detected\n",
      "140th frame being detected\n",
      "160th frame being detected\n",
      "180th frame being detected\n",
      "200th frame being detected\n",
      "220th frame being detected\n",
      "240th frame being detected\n",
      "260th frame being detected\n",
      "280th frame being detected\n",
      "300th frame being detected\n",
      "320th frame being detected\n",
      "340th frame being detected\n",
      "360th frame being detected\n",
      "380th frame being detected\n",
      "400th frame being detected\n",
      "420th frame being detected\n",
      "440th frame being detected\n",
      "460th frame being detected\n",
      "480th frame being detected\n",
      "500th frame being detected\n",
      "520th frame being detected\n",
      "540th frame being detected\n",
      "560th frame being detected\n",
      "580th frame being detected\n",
      "600th frame being detected\n",
      "over\n",
      "Stopped video...\n",
      "Time elapsed: 108.36186739999994\n"
     ]
    }
   ],
   "source": [
    "start = time.perf_counter()\n",
    "video = cv2.VideoCapture('cello.mp4')\n",
    "print('Detecting string...')\n",
    "writer = cv2.VideoWriter('./cello_string_results/cello_string_results2.mp4', cv2.VideoWriter_fourcc(*'mp4v'), 30, (240, 540), True)\n",
    "count = 0\n",
    "rPrev1 = None\n",
    "rPrev2 = None\n",
    "tPrev1 = None\n",
    "tPrev2 = None\n",
    "while video.isOpened():\n",
    "    if count >= 600:\n",
    "        print('over')\n",
    "        break\n",
    "    \n",
    "    # check is True if reading was successful \n",
    "    check, frame = video.read()\n",
    "    if check:\n",
    "        count += 1\n",
    "        if count % 20 == 0:\n",
    "            print(f'{count}th frame being detected')\n",
    "        temp = cv2.resize(frame, (240,540))#(frame.shape[1] // 2, frame.shape[0] // 2))\n",
    "        if count % 30 == 0.5:\n",
    "            detected, rPrev1, rPrev2, tPrev1, tPrev2 = detect_both(temp, None, None, None, None, True)\n",
    "        else:\n",
    "            detected, rPrev1, rPrev2, tPrev1, tPrev2 = detect_both(temp, rPrev1, rPrev2, tPrev1, tPrev2, True)\n",
    "#         detected, tPrev1 = detect_bow(temp, tPrev1, True)\n",
    "\n",
    "        if tPrev1 is None or tPrev2 is None:\n",
    "            pred = '?'\n",
    "        else:\n",
    "            pred = loaded_model.predict([[tPrev1, (tPrev2 + np.pi/2) % np.pi]])[0]\n",
    "        labeled = cv2.putText(detected, f'String {pred}', (0, 30), cv2.FONT_HERSHEY_SIMPLEX, 1, (255, 255, 255), 2)\n",
    "        writer.write(detected)\n",
    "#         writer.write(cv2.cvtColor(detected, cv2.COLOR_BGR2GRAY))\n",
    "    else:\n",
    "        break\n",
    "video.release()\n",
    "writer.release()\n",
    "cv2.destroyAllWindows()\n",
    "print('Stopped video...')\n",
    "print(f'Time elapsed: {time.perf_counter() - start}')"
   ]
  }
 ],
 "metadata": {
  "kernelspec": {
   "display_name": "Python 3 (ipykernel)",
   "language": "python",
   "name": "python3"
  },
  "language_info": {
   "codemirror_mode": {
    "name": "ipython",
    "version": 3
   },
   "file_extension": ".py",
   "mimetype": "text/x-python",
   "name": "python",
   "nbconvert_exporter": "python",
   "pygments_lexer": "ipython3",
   "version": "3.9.5"
  }
 },
 "nbformat": 4,
 "nbformat_minor": 4
}
